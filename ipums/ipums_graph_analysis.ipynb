{
 "cells": [
  {
   "cell_type": "code",
   "execution_count": 1,
   "id": "98585df0-9dc5-4df9-a0c6-f963b315ff7e",
   "metadata": {},
   "outputs": [],
   "source": [
    "import pickle\n",
    "from graph_analysis import *\n",
    "import json"
   ]
  },
  {
   "cell_type": "code",
   "execution_count": 2,
   "id": "305a3b79-1701-437f-a438-c3b2a1e1bbba",
   "metadata": {},
   "outputs": [],
   "source": [
    "filename = \"graphs/subsample_1percent/graph.pkl\"\n",
    "with open(filename, 'rb') as f:\n",
    "    graph = pickle.load(f)"
   ]
  },
  {
   "cell_type": "code",
   "execution_count": 12,
   "id": "80f7a6a0-520d-421e-929a-8a6bbc1f3d1a",
   "metadata": {},
   "outputs": [
    {
     "name": "stdout",
     "output_type": "stream",
     "text": [
      "Calculating gini for all nodes...\n"
     ]
    },
    {
     "name": "stderr",
     "output_type": "stream",
     "text": [
      "Processing node pairs: 100%|████████████████████████████████████████████████████████████████| 406253260/406253260 [06:10<00:00, 1096962.79it/s]\n"
     ]
    },
    {
     "name": "stdout",
     "output_type": "stream",
     "text": [
      "Calculating Gini Coefficient...\n",
      "Gini coefficient for all node pairs: 0.9630921464767005\n"
     ]
    }
   ],
   "source": [
    "g = wealth_gini_all_nodes(graph, 'wealth_proxy')"
   ]
  },
  {
   "cell_type": "code",
   "execution_count": 13,
   "id": "cad8e9d3-fef5-46f0-8033-3f5cc02ba332",
   "metadata": {},
   "outputs": [
    {
     "name": "stdout",
     "output_type": "stream",
     "text": [
      "Calculating gini for weakly connected nodes...\n"
     ]
    },
    {
     "name": "stderr",
     "output_type": "stream",
     "text": [
      "Processing node pairs: 100%|████████████████████████████████████████████████████████████████████| 1742847/1742847 [00:00<00:00, 1771340.97it/s]\n"
     ]
    },
    {
     "name": "stdout",
     "output_type": "stream",
     "text": [
      "Calculating Gini Coefficient...\n",
      "Gini coefficient for weakly connected node pairs: 0.9675239566340206\n"
     ]
    }
   ],
   "source": [
    "g_wc = wealth_gini_weakly_connected(graph, 'wealth_proxy')"
   ]
  },
  {
   "cell_type": "code",
   "execution_count": 15,
   "id": "ca5fa800-36f7-4b91-b99a-c2ce9b49f5c7",
   "metadata": {},
   "outputs": [
    {
     "name": "stdout",
     "output_type": "stream",
     "text": [
      "Calculating gini for not weakly connected nodes...\n"
     ]
    },
    {
     "name": "stderr",
     "output_type": "stream",
     "text": [
      "Processing node pairs: 100%|████████████████████████████████████████████████████████████████| 404510413/404510413 [04:43<00:00, 1426092.01it/s]\n"
     ]
    },
    {
     "name": "stdout",
     "output_type": "stream",
     "text": [
      "Calculating Gini Coefficient...\n",
      "Gini coefficient for not weakly connected node pairs: 0.9630737848092783\n"
     ]
    }
   ],
   "source": [
    "g_nwc = wealth_gini_not_weakly_connected(graph, 'wealth_proxy')"
   ]
  },
  {
   "cell_type": "code",
   "execution_count": 3,
   "id": "6c6f28aa-fea2-4027-8ee5-b6b09542e399",
   "metadata": {},
   "outputs": [
    {
     "name": "stdout",
     "output_type": "stream",
     "text": [
      "Calculating gini for directly connected nodes...\n"
     ]
    },
    {
     "name": "stderr",
     "output_type": "stream",
     "text": [
      "Processing node pairs: 100%|██████████████████████████████████████████████████████████████████████| 501946/501946 [00:00<00:00, 1205311.58it/s]"
     ]
    },
    {
     "name": "stdout",
     "output_type": "stream",
     "text": [
      "Calculating Gini Coefficient...\n",
      "Gini coefficient for directly connected node pairs: 0.9717271999688585\n"
     ]
    },
    {
     "name": "stderr",
     "output_type": "stream",
     "text": [
      "\n"
     ]
    }
   ],
   "source": [
    "g_dc = wealth_gini_directly_connected(graph, 'wealth_proxy')"
   ]
  },
  {
   "cell_type": "code",
   "execution_count": 4,
   "id": "b70cdf03-352a-4a5a-a821-360882539127",
   "metadata": {},
   "outputs": [
    {
     "name": "stdout",
     "output_type": "stream",
     "text": [
      "Calculating gini for not directly connected nodes...\n"
     ]
    },
    {
     "name": "stderr",
     "output_type": "stream",
     "text": [
      "Processing node pairs: 100%|████████████████████████████████████████████████████████████████| 406006645/406006645 [05:37<00:00, 1204585.20it/s]\n"
     ]
    },
    {
     "name": "stdout",
     "output_type": "stream",
     "text": [
      "Calculating Gini Coefficient...\n",
      "Gini coefficient for not directly connected node pairs: 0.9630749407349072\n"
     ]
    },
    {
     "data": {
      "text/plain": [
       "0.9630749407349072"
      ]
     },
     "execution_count": 4,
     "metadata": {},
     "output_type": "execute_result"
    }
   ],
   "source": [
    "g_ndc = wealth_gini_not_directly_connected(graph, 'wealth_proxy')\n",
    "g_ndc"
   ]
  },
  {
   "cell_type": "code",
   "execution_count": 10,
   "id": "0e081b5f-8841-422a-a383-146b28f0c2de",
   "metadata": {},
   "outputs": [
    {
     "name": "stdout",
     "output_type": "stream",
     "text": [
      "Calculating Gini for directly connected node pairs split by income...\n"
     ]
    },
    {
     "name": "stderr",
     "output_type": "stream",
     "text": [
      "Processing node pairs: 100%|██████████████████████████████████████████████████████████████████████| 406497/406497 [00:00<00:00, 1617216.95it/s]\n"
     ]
    },
    {
     "name": "stdout",
     "output_type": "stream",
     "text": [
      "Calculating Gini Coefficient...\n"
     ]
    },
    {
     "name": "stderr",
     "output_type": "stream",
     "text": [
      "Processing node pairs: 100%|████████████████████████████████████████████████████████████████████████| 95449/95449 [00:00<00:00, 1467858.00it/s]"
     ]
    },
    {
     "name": "stdout",
     "output_type": "stream",
     "text": [
      "Calculating Gini Coefficient...\n",
      "Gini coefficient for wealthier-higher-income pairs: 0.9762415994642666\n",
      "Gini coefficient for wealthier-lower-income pairs: 0.8617235231873885\n",
      "0.9762415994642666\n",
      "0.8617235231873885\n"
     ]
    },
    {
     "name": "stderr",
     "output_type": "stream",
     "text": [
      "\n"
     ]
    }
   ],
   "source": [
    "g_dcm, g_dcnm = wealth_gini_directly_connected_split_by_income(graph, wealth_attr='wealth_proxy', income_attr='INCTOT')"
   ]
  },
  {
   "cell_type": "code",
   "execution_count": 16,
   "id": "ede57b9d-980d-4382-8756-f609f0977453",
   "metadata": {},
   "outputs": [],
   "source": [
    "gini_dict = {'gini':  g, 'gini_weakly_connected': g_wc, 'gini_not_weakly_connected': g_nwc, 'g_directly_connected':g_dc, 'g_not_directly_connected': g_ndc, 'gini_directly_connected_match': g_dcm, 'gini_directly_connected_no_match': g_dcnm}"
   ]
  },
  {
   "cell_type": "code",
   "execution_count": 17,
   "id": "2a7b250f-3b78-450a-91af-60525d88b8de",
   "metadata": {},
   "outputs": [],
   "source": [
    "with open('graphs/subsample_1percent/gini_results.json', 'w') as file:\n",
    "    json.dump(gini_dict, file)"
   ]
  },
  {
   "cell_type": "code",
   "execution_count": 8,
   "id": "384a3d8a-e8da-4428-a095-1e87ba6e88c3",
   "metadata": {},
   "outputs": [
    {
     "data": {
      "text/plain": [
       "{'STATEICP': 49,\n",
       " 'HHINCOME': 917000,\n",
       " 'SEX': 2,\n",
       " 'AGE': 30,\n",
       " 'MARST': 1,\n",
       " 'RACE': 1,\n",
       " 'RACED': 100,\n",
       " 'EDUC': 10,\n",
       " 'EDUCD': 101,\n",
       " 'EMPSTAT': 3,\n",
       " 'EMPSTATD': 30,\n",
       " 'OCC': 4760,\n",
       " 'IND': 4971,\n",
       " 'INCTOT': 380000,\n",
       " 'FTOTINC': 917000,\n",
       " 'INCWAGE': 0,\n",
       " 'INCBUS00': 0,\n",
       " 'INCSS': 0,\n",
       " 'INCWELFR': 0,\n",
       " 'INCINVST': 380000,\n",
       " 'INCRETIR': 0,\n",
       " 'INCSUPP': 0,\n",
       " 'INCOTHER': 0,\n",
       " 'INCEARN': 0,\n",
       " 'wealth_proxy': 380000,\n",
       " 'state_x_industry': '49-4971'}"
      ]
     },
     "execution_count": 8,
     "metadata": {},
     "output_type": "execute_result"
    }
   ],
   "source": [
    "graph.nodes['1283139-2']"
   ]
  },
  {
   "cell_type": "code",
   "execution_count": 9,
   "id": "6c0a4c69-84b6-41c5-8b7a-aba1b6df1995",
   "metadata": {},
   "outputs": [
    {
     "name": "stdout",
     "output_type": "stream",
     "text": [
      "Calculating gini for all nodes...\n"
     ]
    },
    {
     "name": "stderr",
     "output_type": "stream",
     "text": [
      "Processing node pairs: 100%|████████████████████████████████████████████████████████████████| 406253260/406253260 [05:21<00:00, 1263600.70it/s]\n"
     ]
    },
    {
     "name": "stdout",
     "output_type": "stream",
     "text": [
      "Calculating Gini Coefficient...\n",
      "Gini coefficient for all node pairs: 0.5980096613462362\n"
     ]
    }
   ],
   "source": [
    "income = wealth_gini_all_nodes(graph, 'INCTOT')"
   ]
  },
  {
   "cell_type": "code",
   "execution_count": null,
   "id": "43f4d255-966b-40f4-9ca6-faece5acbbdf",
   "metadata": {},
   "outputs": [],
   "source": []
  },
  {
   "cell_type": "code",
   "execution_count": null,
   "id": "61efdd32-f455-4b98-85b9-99a326524e26",
   "metadata": {},
   "outputs": [],
   "source": []
  },
  {
   "cell_type": "code",
   "execution_count": 20,
   "id": "cfee0e0c-c6a7-4a4e-bd11-e6bdeb61f7e6",
   "metadata": {},
   "outputs": [
    {
     "name": "stdout",
     "output_type": "stream",
     "text": [
      "319698.52785106574\n"
     ]
    }
   ],
   "source": [
    "total_wealth = 0\n",
    "num_nodes = len(graph.nodes)\n",
    "\n",
    "for node in graph.nodes:\n",
    "    total_wealth += graph.nodes[node]['wealth_proxy']\n",
    "\n",
    "average_wealth = total_wealth / num_nodes  \n",
    "print(average_wealth)"
   ]
  },
  {
   "cell_type": "code",
   "execution_count": 23,
   "id": "b30390fc-2feb-4ed2-b025-478c061ee4bd",
   "metadata": {},
   "outputs": [
    {
     "name": "stdout",
     "output_type": "stream",
     "text": [
      "1999998\n",
      "1219185-3\n"
     ]
    }
   ],
   "source": [
    "    max_node = None\n",
    "    max_wealth_proxy = float('-inf')  # Initialize with a very small value\n",
    "\n",
    "    for node in graph.nodes():\n",
    "        if graph.nodes[node]['wealth_proxy'] > max_wealth_proxy:\n",
    "                max_wealth_proxy = graph.nodes[node]['wealth_proxy']\n",
    "                max_node = node\n",
    "\n",
    "print(max_wealth_proxy)\n",
    "print(max_node)"
   ]
  },
  {
   "cell_type": "code",
   "execution_count": null,
   "id": "b15a1075-eec9-4761-a5ff-da8d57545d1a",
   "metadata": {},
   "outputs": [],
   "source": []
  },
  {
   "cell_type": "code",
   "execution_count": 24,
   "id": "785d454d-68ae-4485-b719-aa1dede5f5d0",
   "metadata": {},
   "outputs": [
    {
     "data": {
      "text/plain": [
       "{'STATEICP': 54,\n",
       " 'HHINCOME': 477000,\n",
       " 'SEX': 2,\n",
       " 'AGE': 9,\n",
       " 'MARST': 6,\n",
       " 'RACE': 1,\n",
       " 'RACED': 100,\n",
       " 'EDUC': 1,\n",
       " 'EDUCD': 16,\n",
       " 'EMPSTAT': 0,\n",
       " 'EMPSTATD': 0,\n",
       " 'OCC': 0,\n",
       " 'IND': 0,\n",
       " 'INCTOT': 9999999,\n",
       " 'FTOTINC': 477000,\n",
       " 'INCWAGE': 999999,\n",
       " 'INCBUS00': 999999,\n",
       " 'INCSS': 99999,\n",
       " 'INCWELFR': 99999,\n",
       " 'INCINVST': 999999,\n",
       " 'INCRETIR': 999999,\n",
       " 'INCSUPP': 99999,\n",
       " 'INCOTHER': 99999,\n",
       " 'INCEARN': 0,\n",
       " 'wealth_proxy': 1999998,\n",
       " 'state_x_industry': '54-0'}"
      ]
     },
     "execution_count": 24,
     "metadata": {},
     "output_type": "execute_result"
    }
   ],
   "source": [
    "graph.nodes['1219185-3']"
   ]
  },
  {
   "cell_type": "code",
   "execution_count": 47,
   "id": "38066b8b-1b67-45d0-8281-f7818a042b98",
   "metadata": {},
   "outputs": [
    {
     "name": "stdout",
     "output_type": "stream",
     "text": [
      "14\n"
     ]
    }
   ],
   "source": [
    "nodes_with_incinvst_999999 = [node for node, attr in graph.nodes(data=True) if attr.get('INCBUS00') == 999999]\n",
    "\n",
    "ages = [graph.nodes[node].get('AGE') for node in nodes_with_incinvst_999999]\n",
    "print(max(ages))"
   ]
  },
  {
   "cell_type": "code",
   "execution_count": 25,
   "id": "163c6a99-f6e8-49e1-b2eb-646cea5f1407",
   "metadata": {},
   "outputs": [
    {
     "data": {
      "text/plain": [
       "1999998"
      ]
     },
     "execution_count": 25,
     "metadata": {},
     "output_type": "execute_result"
    }
   ],
   "source": [
    "999999 + 999,999"
   ]
  },
  {
   "cell_type": "code",
   "execution_count": null,
   "id": "33aa35fd-1653-40d1-8981-3ab6fd0ff027",
   "metadata": {},
   "outputs": [],
   "source": [
    "1,999,998"
   ]
  }
 ],
 "metadata": {
  "kernelspec": {
   "display_name": "Python 3 (ipykernel)",
   "language": "python",
   "name": "python3"
  },
  "language_info": {
   "codemirror_mode": {
    "name": "ipython",
    "version": 3
   },
   "file_extension": ".py",
   "mimetype": "text/x-python",
   "name": "python",
   "nbconvert_exporter": "python",
   "pygments_lexer": "ipython3",
   "version": "3.10.4"
  }
 },
 "nbformat": 4,
 "nbformat_minor": 5
}
